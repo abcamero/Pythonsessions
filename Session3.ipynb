{
  "nbformat": 4,
  "nbformat_minor": 0,
  "metadata": {
    "colab": {
      "provenance": [],
      "authorship_tag": "ABX9TyNlYvEHZRL328+VOQcuK1J1",
      "include_colab_link": true
    },
    "kernelspec": {
      "name": "python3",
      "display_name": "Python 3"
    },
    "language_info": {
      "name": "python"
    }
  },
  "cells": [
    {
      "cell_type": "markdown",
      "metadata": {
        "id": "view-in-github",
        "colab_type": "text"
      },
      "source": [
        "<a href=\"https://colab.research.google.com/github/abcamero/Pythonsessions/blob/main/Session3.ipynb\" target=\"_parent\"><img src=\"https://colab.research.google.com/assets/colab-badge.svg\" alt=\"Open In Colab\"/></a>"
      ]
    },
    {
      "cell_type": "code",
      "execution_count": null,
      "metadata": {
        "id": "4tdf36jHKlUU"
      },
      "outputs": [],
      "source": []
    },
    {
      "cell_type": "code",
      "source": [
        "print(\"Hello cLASS\")"
      ],
      "metadata": {
        "colab": {
          "base_uri": "https://localhost:8080/"
        },
        "id": "jt4X4gUQKmMA",
        "outputId": "a3869252-e30b-454f-b470-0ed881ac5782"
      },
      "execution_count": null,
      "outputs": [
        {
          "output_type": "stream",
          "name": "stdout",
          "text": [
            "Hello cLASS\n"
          ]
        }
      ]
    },
    {
      "cell_type": "code",
      "source": [
        "#Recap :\n",
        "# 1> print\n",
        "# 1a> Typecasting\n",
        "# 2> calculator. example\n",
        "      #variables\n",
        "      #Datatypes : int, float, boolean, string\n",
        "          #even and odd\n",
        "# FAN ON and OFF (1-5) and (5-10)\n",
        "# conditional statement\n",
        "  # compare and assign. (== , = )"
      ],
      "metadata": {
        "id": "CUAV4WrcKtl7"
      },
      "execution_count": null,
      "outputs": []
    },
    {
      "cell_type": "code",
      "source": [
        "# Conditional statments\n",
        "# Syntax :\n",
        "\n",
        "ee = 6\n",
        "AA =1\n",
        "\n",
        "if(ee == 1):\n",
        "  print(\"Go Home\")\n",
        "  print(\" COme home\")\n",
        "  print(\" Dont go out\")\n",
        "elif(ee == 2):\n",
        "  print(\" Go Office\")\n",
        "elif(ee == 3):\n",
        "  print(\"Go to gym\")\n",
        "else:\n",
        "  print(\"SLEEEP\")\n",
        "\n",
        "\n"
      ],
      "metadata": {
        "colab": {
          "base_uri": "https://localhost:8080/"
        },
        "id": "sko60UWzKt7F",
        "outputId": "5909e4bb-9275-4e1d-f70c-523ed1c0e5a1"
      },
      "execution_count": null,
      "outputs": [
        {
          "output_type": "stream",
          "name": "stdout",
          "text": [
            "SLEEEP\n"
          ]
        }
      ]
    },
    {
      "cell_type": "code",
      "source": [
        "\n",
        "A = input('Enter a letter')\n",
        "if A.upper() == \"A\":\n",
        "   print (\"Vovel\")\n",
        "elif A.upper() == \"E\":\n",
        "   print (\"Vovel\")\n",
        "elif A.upper() == \"I\":\n",
        "   print (\"Vovel\")\n",
        "elif A.upper() == \"O\":\n",
        "   print (\"Vovel\")\n",
        "elif A.upper() == \"U\":\n",
        "   print (\"Vovel\")\n",
        "else :\n",
        "   print (\"Not Vovel\")"
      ],
      "metadata": {
        "colab": {
          "base_uri": "https://localhost:8080/"
        },
        "id": "eIwvXQviRc2Z",
        "outputId": "d6fcfe48-caff-4bb1-c1b2-7f67e90b963a"
      },
      "execution_count": null,
      "outputs": [
        {
          "output_type": "stream",
          "name": "stdout",
          "text": [
            "Enter a lettero\n",
            "Vovel\n"
          ]
        }
      ]
    },
    {
      "cell_type": "code",
      "source": [
        "#Iteration\n",
        "\n",
        "for x in range(1,11): # It starts from zero\n",
        "  print(x*2)"
      ],
      "metadata": {
        "colab": {
          "base_uri": "https://localhost:8080/"
        },
        "id": "uVNUGLXgUF1J",
        "outputId": "48d2f190-823a-4ef8-96b3-08bd52daa5f6"
      },
      "execution_count": null,
      "outputs": [
        {
          "output_type": "stream",
          "name": "stdout",
          "text": [
            "2\n",
            "4\n",
            "6\n",
            "8\n",
            "10\n",
            "12\n",
            "14\n",
            "16\n",
            "18\n",
            "20\n"
          ]
        }
      ]
    },
    {
      "cell_type": "code",
      "source": [
        "# Conditional statment : While loop - TOP OF THE CODE Or never used good interview question\n",
        "\n",
        "a = 3\n",
        "while(a < 7):\n",
        "  a = a + 1\n",
        "  print(\"Inside loop\")\n",
        "print(\"Exit\")"
      ],
      "metadata": {
        "colab": {
          "base_uri": "https://localhost:8080/"
        },
        "id": "x0eNS7Q5ZW2-",
        "outputId": "28b08505-7383-4662-c3dc-3642ab18570c"
      },
      "execution_count": null,
      "outputs": [
        {
          "output_type": "stream",
          "name": "stdout",
          "text": [
            "Inside loop\n",
            "Inside loop\n",
            "Inside loop\n",
            "Inside loop\n",
            "Exit\n"
          ]
        }
      ]
    },
    {
      "cell_type": "code",
      "source": [
        "step 1:# two numbers :\n",
        "\n",
        "step 2# asks the user which mathermatical ops he has to perform\n",
        " \"add\" \"multiply\" \"divide\" \"subtract\"\n",
        "\n",
        "step 3# print the answer\n",
        "\n",
        "step 4# do you wish to do another operation?\n",
        "  \"yes\" \"No\"\n",
        "      #print (\"Thank you for using calculator\")\n"
      ],
      "metadata": {
        "id": "V6zhn6tgbNpO"
      },
      "execution_count": null,
      "outputs": []
    },
    {
      "cell_type": "code",
      "source": [
        "z=1\n",
        "while(z==1):\n",
        "  a=int(input(\"Enter first number\"))\n",
        "  b=int(input(\"Enter second number\"))\n",
        "  op=input(\"Which Oeration do u want to perform addition,subtraction,multiplication,division\")\n",
        "  if(op.upper()=='ADDITION'):\n",
        "    print(a+b)\n",
        "  elif(op.upper()=='SUBTRACTION'):\n",
        "    print(a-b)\n",
        "  elif(op.upper()=='MULTIPLICATION'):\n",
        "    print(a*b)\n",
        "  elif(op.upper()=='DIVISION'):\n",
        "    print(a/b)\n",
        "\n",
        "  x=input(\"Do u want to repeat again Yes or No\")\n",
        "  if(x.upper()==\"YES\"):\n",
        "    z=1\n",
        "  else:\n",
        "    z=0\n",
        "    print(\"Thank you\")\n"
      ],
      "metadata": {
        "colab": {
          "base_uri": "https://localhost:8080/"
        },
        "id": "Wnq0bBl6fyLV",
        "outputId": "860ad7b4-3059-478f-91f5-c609c475c3ce"
      },
      "execution_count": null,
      "outputs": [
        {
          "output_type": "stream",
          "name": "stdout",
          "text": [
            "Enter first number5\n",
            "Enter second number9\n",
            "Which Oeration do u want to perform addition,subtraction,multiplication,divisiondivision\n",
            "0.5555555555555556\n",
            "Do u want to repeat again Yes or Nono\n",
            "Thank you\n"
          ]
        }
      ]
    },
    {
      "cell_type": "code",
      "source": [],
      "metadata": {
        "id": "2oeI8wI4iqWY"
      },
      "execution_count": null,
      "outputs": []
    }
  ]
}