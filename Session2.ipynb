{
  "nbformat": 4,
  "nbformat_minor": 0,
  "metadata": {
    "colab": {
      "provenance": [],
      "authorship_tag": "ABX9TyP1gIzpb/ggcW3M5zJTHXej"
    },
    "kernelspec": {
      "name": "python3",
      "display_name": "Python 3"
    },
    "language_info": {
      "name": "python"
    }
  },
  "cells": [
    {
      "cell_type": "markdown",
      "source": [],
      "metadata": {
        "id": "FfvhflHe5vOM"
      }
    },
    {
      "cell_type": "code",
      "execution_count": null,
      "metadata": {
        "colab": {
          "base_uri": "https://localhost:8080/"
        },
        "id": "bxFje8ODZnod",
        "outputId": "85c8ea9c-d75b-4194-ad40-57b1a11e8c7b"
      },
      "outputs": [
        {
          "output_type": "stream",
          "name": "stdout",
          "text": [
            "Hello world\n"
          ]
        }
      ],
      "source": [
        "print(\"Hello world\")"
      ]
    },
    {
      "cell_type": "code",
      "source": [
        "a = 5\n",
        "print(type(a))"
      ],
      "metadata": {
        "colab": {
          "base_uri": "https://localhost:8080/"
        },
        "id": "M3N8m_hZZ5ch",
        "outputId": "4cc7ce10-1f36-48d6-a47a-73f61dec27f0"
      },
      "execution_count": null,
      "outputs": [
        {
          "output_type": "stream",
          "name": "stdout",
          "text": [
            "<class 'int'>\n"
          ]
        }
      ]
    },
    {
      "cell_type": "code",
      "source": [
        "name = input(\"Enter your name\")\n",
        "print(name)"
      ],
      "metadata": {
        "colab": {
          "base_uri": "https://localhost:8080/"
        },
        "id": "P43kt7M2aLGc",
        "outputId": "562293ce-a72b-448c-dc29-110aefbae115"
      },
      "execution_count": null,
      "outputs": [
        {
          "output_type": "stream",
          "name": "stdout",
          "text": [
            "Enter your nameAmeya\n",
            "Ameya\n"
          ]
        }
      ]
    },
    {
      "cell_type": "code",
      "source": [
        "a = \"Ameya\"\n",
        "b = 13\n",
        "c = 13.56\n",
        "d = True\n",
        "x = 5\n",
        "y = 6\n",
        "complexNum = complex(x,y)"
      ],
      "metadata": {
        "id": "HZcMdfC6aa8H"
      },
      "execution_count": null,
      "outputs": []
    },
    {
      "cell_type": "code",
      "source": [
        "#Arithmatic operators\n",
        "# + - * / % // **\n",
        "\n",
        "# Logical operators\n",
        "# and or not\n",
        "\n",
        "# Assignment operator\n",
        "# a += b\n",
        "# a = b\n",
        "# a -= b\n",
        "\n",
        "#Strings\n",
        "# Operation on strings\n",
        "a = \"aMEYA\"\n",
        "print(a.lower())\n",
        "\n",
        "print(a.upper())\n",
        "\n",
        "j = \"Am\"\n",
        "k = \"Eya\"\n",
        "\n",
        "jointname = j + k\n",
        "print(jointname)"
      ],
      "metadata": {
        "colab": {
          "base_uri": "https://localhost:8080/"
        },
        "id": "3YIqlIEJd5U4",
        "outputId": "498b611a-5357-475c-82f0-f06a0ede5c2d"
      },
      "execution_count": null,
      "outputs": [
        {
          "output_type": "stream",
          "name": "stdout",
          "text": [
            "ameya\n",
            "AMEYA\n",
            "AmEya\n"
          ]
        }
      ]
    },
    {
      "cell_type": "code",
      "source": [
        "print(\"Ameya\")"
      ],
      "metadata": {
        "colab": {
          "base_uri": "https://localhost:8080/"
        },
        "id": "BlGk9I6f9IWl",
        "outputId": "26bbb744-d839-464d-9886-4f51707d1d53"
      },
      "execution_count": null,
      "outputs": [
        {
          "output_type": "stream",
          "name": "stdout",
          "text": [
            "Ameya\n"
          ]
        }
      ]
    },
    {
      "cell_type": "code",
      "source": [
        "firstnumber = input(\"Enter the number\")"
      ],
      "metadata": {
        "colab": {
          "base_uri": "https://localhost:8080/"
        },
        "id": "xH8NVe919Ipg",
        "outputId": "52ae2852-c55a-4bff-fd06-d8d9e4be9247"
      },
      "execution_count": null,
      "outputs": [
        {
          "name": "stdout",
          "output_type": "stream",
          "text": [
            "Enter the number3\n"
          ]
        }
      ]
    },
    {
      "cell_type": "code",
      "source": [
        "print(firstnumber)"
      ],
      "metadata": {
        "colab": {
          "base_uri": "https://localhost:8080/"
        },
        "id": "fjH7uj3R9Is9",
        "outputId": "6ac36a73-9855-4012-9aba-b4cdfdbcb938"
      },
      "execution_count": null,
      "outputs": [
        {
          "output_type": "stream",
          "name": "stdout",
          "text": [
            "3\n"
          ]
        }
      ]
    },
    {
      "cell_type": "code",
      "source": [
        "# code to enter a number and display it (this is a comment)\n",
        "# variable = input(\"Inputmsg\")\n",
        "first = input(\"Pehela number dalo\")\n",
        "print(first)"
      ],
      "metadata": {
        "colab": {
          "base_uri": "https://localhost:8080/"
        },
        "id": "7091yz4W9IwK",
        "outputId": "c513c4df-325e-45d7-8d7a-40681b60c4a6"
      },
      "execution_count": null,
      "outputs": [
        {
          "output_type": "stream",
          "name": "stdout",
          "text": [
            "Pehela number dalo99\n",
            "99\n"
          ]
        }
      ]
    },
    {
      "cell_type": "code",
      "source": [
        "# Datatypes\n",
        "# int (1,4,5,2,33,2434)\n",
        "# float (0.4,1.5,3.6,456.56)\n",
        "# String (\"ameya\", \"shantanu\",\"cv\")\n",
        "# Boolean (True,false)"
      ],
      "metadata": {
        "id": "fgWpg3ej9IzR"
      },
      "execution_count": null,
      "outputs": []
    },
    {
      "cell_type": "code",
      "source": [
        "ff = float(input(\"Enter the number\")) #Typecasting\n",
        "print(ff)\n",
        "cc = ff + 10.50\n",
        "print(cc) # 16.0"
      ],
      "metadata": {
        "colab": {
          "base_uri": "https://localhost:8080/"
        },
        "id": "aOaTH2pP9I2M",
        "outputId": "434d0776-12bd-4dce-b53f-d96859a3becb"
      },
      "execution_count": null,
      "outputs": [
        {
          "output_type": "stream",
          "name": "stdout",
          "text": [
            "Enter the number5.5\n",
            "5.5\n",
            "16.0\n"
          ]
        }
      ]
    },
    {
      "cell_type": "code",
      "source": [
        "# Calculator (addition,sub,multiplication)"
      ],
      "metadata": {
        "id": "9Vk2eNmu9I5i"
      },
      "execution_count": null,
      "outputs": []
    },
    {
      "cell_type": "code",
      "source": [
        "f1 = float (input(\"enter first number between 1 to 10\"))\n",
        "f2 = float (input(\"enter second number between 1 to 10\"))\n",
        "f3 = f1 + f2\n",
        "f4 = f1 - f2\n",
        "f5 = f1* f2\n",
        "f6 = f1/f2 # Full divison\n",
        "f7 = f1%f2 #Remainder\n",
        "print(f3,f4,f5,f6,f7)"
      ],
      "metadata": {
        "colab": {
          "base_uri": "https://localhost:8080/"
        },
        "id": "biC1WBDQ9I-5",
        "outputId": "43671886-61a3-4482-b403-b144a99d86e7"
      },
      "execution_count": null,
      "outputs": [
        {
          "output_type": "stream",
          "name": "stdout",
          "text": [
            "enter first number between 1 to 105\n",
            "enter second number between 1 to 102\n",
            "7.0 3.0 10.0 2.5 1.0\n"
          ]
        }
      ]
    },
    {
      "cell_type": "code",
      "source": [
        "\n",
        "f1 = int(input(\"Enter a number: \"))\n",
        "if (f1 % 2) == 0:\n",
        "   print(\"number is Even\")\n",
        "else:\n",
        "   print(\"number is Odd\")\n",
        "\n",
        "# Pass the code with certain test cases:: 1,3,4,5,6 (Bug) -> Unit testing"
      ],
      "metadata": {
        "colab": {
          "base_uri": "https://localhost:8080/"
        },
        "id": "xdQhcpqcHEp3",
        "outputId": "5ad81dea-ec52-4bb7-a059-4501172a0b03"
      },
      "execution_count": null,
      "outputs": [
        {
          "output_type": "stream",
          "name": "stdout",
          "text": [
            "Enter a number: 1\n",
            "number is Odd\n"
          ]
        }
      ]
    },
    {
      "cell_type": "code",
      "source": [
        "# string operations\n",
        "\n",
        "jj = input(\"Enter the first half name of your city\")\n",
        "print(jj)\n",
        "kk = input(\"Enter the first second name of your city\")\n",
        "print(kk)\n",
        "tt = jj + kk\n",
        "print(tt)  #concatinate\n",
        "\n",
        "print(tt.upper()) #check the case of input string"
      ],
      "metadata": {
        "colab": {
          "base_uri": "https://localhost:8080/"
        },
        "id": "qjiWbvzAI0tQ",
        "outputId": "3c7c7c90-c1ed-4055-c265-3f92cce9304e"
      },
      "execution_count": null,
      "outputs": [
        {
          "output_type": "stream",
          "name": "stdout",
          "text": [
            "Enter the first half name of your citynag\n",
            "nag\n",
            "Enter the first second name of your citypur\n",
            "pur\n",
            "nagpur\n",
            "NAGPUR\n"
          ]
        }
      ]
    },
    {
      "cell_type": "code",
      "source": [
        "# Conditional statements\n",
        " #if statement\n",
        "a = 45\n",
        "if(a > 50):\n",
        "  print(\"Number is greater than 50\")\n",
        "if(a > 40):\n",
        "  print(\"Number is greater than 40\")"
      ],
      "metadata": {
        "colab": {
          "base_uri": "https://localhost:8080/"
        },
        "id": "awYadwolKFy0",
        "outputId": "232e6068-cf2e-40ae-f662-92a2e762a1d5"
      },
      "execution_count": null,
      "outputs": [
        {
          "output_type": "stream",
          "name": "stdout",
          "text": [
            "Number is greater than 40\n"
          ]
        }
      ]
    },
    {
      "cell_type": "code",
      "source": [
        "#a = 5; (Assignment)\n",
        "#T1 == 5; (COMPARE)\n",
        "T1 =int(input(\"Enter the number BETWEEN 1 TO 10\"))\n",
        "if T1< 5:\n",
        "  print (\"Fan On\")\n",
        "if T1> 5:\n",
        "  print (\"Fan Off\")\n",
        "if T1==5: #VVVIMP concept : in conditon check (COMPARE Use)\n",
        "  print(\"Invalid Input\")"
      ],
      "metadata": {
        "colab": {
          "base_uri": "https://localhost:8080/"
        },
        "id": "uCqkJo9aO6E0",
        "outputId": "b9feb794-8f92-473c-c4a8-40e890157894"
      },
      "execution_count": null,
      "outputs": [
        {
          "output_type": "stream",
          "name": "stdout",
          "text": [
            "Enter the number3\n",
            "Fan On\n"
          ]
        }
      ]
    },
    {
      "cell_type": "code",
      "source": [
        "f1=int(input(\"Enter a number= \"))\n",
        "if(f1<=4):\n",
        "  print(\"FANON\")\n",
        "if(f1>5):\n",
        "  print(\"FANOFF\")\n",
        "if (f1==5):\n",
        "  print(\"invalid number\")"
      ],
      "metadata": {
        "id": "DMeeUQQHQRSH"
      },
      "execution_count": null,
      "outputs": []
    }
  ]
}